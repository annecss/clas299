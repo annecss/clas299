{
 "cells": [
  {
   "cell_type": "code",
   "execution_count": 1,
   "metadata": {},
   "outputs": [
    {
     "data": {
      "text/plain": [
       "\u001b[32mimport \u001b[39m\u001b[36mscala.io.Source\n",
       "\u001b[39m\n",
       "\u001b[36mocreCex\u001b[39m: \u001b[32mString\u001b[39m = \u001b[32m\"http://shot.holycross.edu/courses/ada/S20/data/lycianNecropoleis.cex\"\u001b[39m"
      ]
     },
     "execution_count": 1,
     "metadata": {},
     "output_type": "execute_result"
    }
   ],
   "source": [
    "import scala.io.Source\n",
    "val ocreCex = \"http://shot.holycross.edu/courses/ada/S20/data/lycianNecropoleis.cex\""
   ]
  },
  {
   "cell_type": "code",
   "execution_count": 2,
   "metadata": {},
   "outputs": [
    {
     "data": {
      "text/plain": [
       "\u001b[36mlines\u001b[39m: \u001b[32mVector\u001b[39m[\u001b[32mString\u001b[39m] = \u001b[33mVector\u001b[39m(\n",
       "  \u001b[32m\"sitename#ztype#tombcount#comments#ztypetext#rageid\"\u001b[39m,\n",
       "  \u001b[32m\"Antiphellos#IID#17#NA#House tomb, rock-cut facade#1667\"\u001b[39m,\n",
       "  \u001b[32m\"Pinara#IIIA#2#NA#Lycian sarcophagus, free standing#1696\"\u001b[39m,\n",
       "  \u001b[32m\"Delicedere#IIIA#1#NA#Lycian sarcophagus, free standing#NA\"\u001b[39m,\n",
       "  \u001b[32m\"Xanthos#IIIA#9#NA#Lycian sarcophagus, free standing#1694\"\u001b[39m,\n",
       "  \u001b[32m\"Tlos#IIIA#5#NA#Lycian sarcophagus, free standing#1695\"\u001b[39m,\n",
       "  \u001b[32m\"Telmessos#IIIA#1#NA#Lycian sarcophagus, free standing#1571\"\u001b[39m,\n",
       "  \u001b[32m\"Trysa#IIIA#4#NA#Lycian sarcophagus, free standing#1666\"\u001b[39m,\n",
       "  \u001b[32m\"Tuze#IIIA#3#NA#Lycian sarcophagus, free standing#1756\"\u001b[39m,\n",
       "  \u001b[32m\"Cindam#IIIA#1#NA#Lycian sarcophagus, free standing#1755\"\u001b[39m,\n",
       "  \u001b[32m\"Bayindir Liman#IIIA#1#NA#Lycian sarcophagus, free standing#1724\"\u001b[39m,\n",
       "  \u001b[32m\"Sura#IIIA#1#NA#Lycian sarcophagus, free standing#1702\"\u001b[39m,\n",
       "  \u001b[32m\"Limyra#IIIA#5#NA#Lycian sarcophagus, free standing#1701\"\u001b[39m,\n",
       "  \u001b[32m\"Kyanai#IIIA#2#NA#Lycian sarcophagus, free standing#1707\"\u001b[39m,\n",
       "  \u001b[32m\"Kadyanda#IIIA#1#NA#Lycian sarcophagus, free standing#1673\"\u001b[39m,\n",
       "  \u001b[32m\"Isinda#IIIA#1#NA#Lycian sarcophagus, free standing#1705\"\u001b[39m,\n",
       "  \u001b[32m\"Antiphellos#IIIA#1#NA#Lycian sarcophagus, free standing#1667\"\u001b[39m,\n",
       "  \u001b[32m\"Pinara#IIIB#1#NA#Lycian sarcophagus, partially free standing#1696\"\u001b[39m,\n",
       "  \u001b[32m\"Phellos#IIIB#1#NA#Lycian sarcophagus, partially free standing#1699\"\u001b[39m,\n",
       "  \u001b[32m\"Koybasi#IIIB#1#NA#Lycian sarcophagus, partially free standing#1763\"\u001b[39m,\n",
       "  \u001b[32m\"Kyanai#IIIB#1#NA#Lycian sarcophagus, partially free standing#1707\"\u001b[39m,\n",
       "  \u001b[32m\"Pinara#IIID#2#NA#Lycian sarcophagus, rock-cut facade#1696\"\u001b[39m,\n",
       "  \u001b[32m\"Myra#IIID#3#NA#Lycian sarcophagus, rock-cut facade#1697\"\u001b[39m,\n",
       "  \u001b[32m\"Teimiousa#IIID#1#NA#Lycian sarcophagus, rock-cut facade#1709\"\u001b[39m,\n",
       "  \u001b[32m\"Simena#IIID#1#NA#Lycian sarcophagus, rock-cut facade#1704\"\u001b[39m,\n",
       "  \u001b[32m\"Kyanai#IIID#1#NA#Lycian sarcophagus, rock-cut facade#1707\"\u001b[39m,\n",
       "  \u001b[32m\"Antiphellos#IIID#1#NA#Lycian sarcophagus, rock-cut facade#1667\"\u001b[39m,\n",
       "  \u001b[32m\"Myra#IVB/C#1#NA#House tomb of Greek type, partially freestanding or with chamber#1697\"\u001b[39m,\n",
       "  \u001b[32m\"Cagman#IIA#1#NA#House tomb, free standing#1763\"\u001b[39m,\n",
       "  \u001b[32m\"Kadyanda#IIA#1#NA#House tomb, free standing#1673\"\u001b[39m,\n",
       "  \u001b[32m\"Isinda#IIA#1#NA#House tomb, free standing#1705\"\u001b[39m,\n",
       "  \u001b[32m\"Arneai#IIA#1#NA#House tomb, free standing#1670\"\u001b[39m,\n",
       "  \u001b[32m\"Rhodiapolis#IIB/C#1#NA#House tomb, partially freestanding or with chamber#1703\"\u001b[39m,\n",
       "  \u001b[32m\"Pinara#IIB/C#6#NA#House tomb, partially freestanding or with chamber#1696\"\u001b[39m,\n",
       "  \u001b[32m\"Phellos#IIB/C#13#NA#House tomb, partially freestanding or with chamber#1699\"\u001b[39m,\n",
       "  \u001b[32m\"Cavdir-Turuncova#IIB/C#2#NA#House tomb, partially freestanding or with chambe\u001b[39m..."
      ]
     },
     "execution_count": 2,
     "metadata": {},
     "output_type": "execute_result"
    }
   ],
   "source": [
    "val lines = Source.fromURL(ocreCex).getLines.toVector"
   ]
  },
  {
   "cell_type": "code",
   "execution_count": 3,
   "metadata": {},
   "outputs": [
    {
     "data": {
      "text/plain": [
       "\u001b[36mdata\u001b[39m: \u001b[32mVector\u001b[39m[\u001b[32mVector\u001b[39m[\u001b[32mString\u001b[39m]] = \u001b[33mVector\u001b[39m(\n",
       "  \u001b[33mVector\u001b[39m(\n",
       "    \u001b[32m\"Antiphellos\"\u001b[39m,\n",
       "    \u001b[32m\"IID\"\u001b[39m,\n",
       "    \u001b[32m\"17\"\u001b[39m,\n",
       "    \u001b[32m\"NA\"\u001b[39m,\n",
       "    \u001b[32m\"House tomb, rock-cut facade\"\u001b[39m,\n",
       "    \u001b[32m\"1667\"\u001b[39m\n",
       "  ),\n",
       "  \u001b[33mVector\u001b[39m(\n",
       "    \u001b[32m\"Pinara\"\u001b[39m,\n",
       "    \u001b[32m\"IIIA\"\u001b[39m,\n",
       "    \u001b[32m\"2\"\u001b[39m,\n",
       "    \u001b[32m\"NA\"\u001b[39m,\n",
       "    \u001b[32m\"Lycian sarcophagus, free standing\"\u001b[39m,\n",
       "    \u001b[32m\"1696\"\u001b[39m\n",
       "  ),\n",
       "  \u001b[33mVector\u001b[39m(\n",
       "    \u001b[32m\"Delicedere\"\u001b[39m,\n",
       "    \u001b[32m\"IIIA\"\u001b[39m,\n",
       "    \u001b[32m\"1\"\u001b[39m,\n",
       "    \u001b[32m\"NA\"\u001b[39m,\n",
       "    \u001b[32m\"Lycian sarcophagus, free standing\"\u001b[39m,\n",
       "    \u001b[32m\"NA\"\u001b[39m\n",
       "  ),\n",
       "  \u001b[33mVector\u001b[39m(\n",
       "    \u001b[32m\"Xanthos\"\u001b[39m,\n",
       "    \u001b[32m\"IIIA\"\u001b[39m,\n",
       "    \u001b[32m\"9\"\u001b[39m,\n",
       "    \u001b[32m\"NA\"\u001b[39m,\n",
       "    \u001b[32m\"Lycian sarcophagus, free standing\"\u001b[39m,\n",
       "    \u001b[32m\"1694\"\u001b[39m\n",
       "  ),\n",
       "  \u001b[33mVector\u001b[39m(\u001b[32m\"Tlos\"\u001b[39m, \u001b[32m\"IIIA\"\u001b[39m, \u001b[32m\"5\"\u001b[39m, \u001b[32m\"NA\"\u001b[39m, \u001b[32m\"Lycian sarcophagus, free standing\"\u001b[39m, \u001b[32m\"1695\"\u001b[39m),\n",
       "  \u001b[33mVector\u001b[39m(\n",
       "    \u001b[32m\"Telmessos\"\u001b[39m,\n",
       "    \u001b[32m\"IIIA\"\u001b[39m,\n",
       "    \u001b[32m\"1\"\u001b[39m,\n",
       "..."
      ]
     },
     "execution_count": 3,
     "metadata": {},
     "output_type": "execute_result"
    }
   ],
   "source": [
    "val data = lines.tail.map(ln => ln.split(\"#\").toVector)"
   ]
  },
  {
   "cell_type": "code",
   "execution_count": 4,
   "metadata": {},
   "outputs": [
    {
     "data": {
      "text/plain": [
       "\u001b[36mtombcounts\u001b[39m: \u001b[32mVector\u001b[39m[\u001b[32mString\u001b[39m] = \u001b[33mVector\u001b[39m(\n",
       "  \u001b[32m\"17\"\u001b[39m,\n",
       "  \u001b[32m\"2\"\u001b[39m,\n",
       "  \u001b[32m\"1\"\u001b[39m,\n",
       "  \u001b[32m\"9\"\u001b[39m,\n",
       "  \u001b[32m\"5\"\u001b[39m,\n",
       "  \u001b[32m\"1\"\u001b[39m,\n",
       "  \u001b[32m\"4\"\u001b[39m,\n",
       "  \u001b[32m\"3\"\u001b[39m,\n",
       "  \u001b[32m\"1\"\u001b[39m,\n",
       "  \u001b[32m\"1\"\u001b[39m,\n",
       "  \u001b[32m\"1\"\u001b[39m,\n",
       "  \u001b[32m\"5\"\u001b[39m,\n",
       "  \u001b[32m\"2\"\u001b[39m,\n",
       "  \u001b[32m\"1\"\u001b[39m,\n",
       "  \u001b[32m\"1\"\u001b[39m,\n",
       "  \u001b[32m\"1\"\u001b[39m,\n",
       "  \u001b[32m\"1\"\u001b[39m,\n",
       "  \u001b[32m\"1\"\u001b[39m,\n",
       "  \u001b[32m\"1\"\u001b[39m,\n",
       "  \u001b[32m\"1\"\u001b[39m,\n",
       "  \u001b[32m\"2\"\u001b[39m,\n",
       "  \u001b[32m\"3\"\u001b[39m,\n",
       "  \u001b[32m\"1\"\u001b[39m,\n",
       "  \u001b[32m\"1\"\u001b[39m,\n",
       "  \u001b[32m\"1\"\u001b[39m,\n",
       "  \u001b[32m\"1\"\u001b[39m,\n",
       "  \u001b[32m\"1\"\u001b[39m,\n",
       "  \u001b[32m\"1\"\u001b[39m,\n",
       "  \u001b[32m\"1\"\u001b[39m,\n",
       "  \u001b[32m\"1\"\u001b[39m,\n",
       "  \u001b[32m\"1\"\u001b[39m,\n",
       "  \u001b[32m\"1\"\u001b[39m,\n",
       "  \u001b[32m\"6\"\u001b[39m,\n",
       "  \u001b[32m\"13\"\u001b[39m,\n",
       "  \u001b[32m\"2\"\u001b[39m,\n",
       "  \u001b[32m\"17\"\u001b[39m,\n",
       "  \u001b[32m\"2\"\u001b[39m,\n",
       "  \u001b[32m\"8\"\u001b[39m,\n",
       "..."
      ]
     },
     "execution_count": 4,
     "metadata": {},
     "output_type": "execute_result"
    }
   ],
   "source": [
    "val tombcounts = data.map(columns => columns(2))\n",
    "//after this I'm not sure what's going on"
   ]
  },
  {
   "cell_type": "code",
   "execution_count": 6,
   "metadata": {},
   "outputs": [
    {
     "data": {
      "text/plain": [
       "\u001b[36mtombcountsGrouped\u001b[39m: \u001b[32mMap\u001b[39m[\u001b[32mString\u001b[39m, \u001b[32mVector\u001b[39m[\u001b[32mString\u001b[39m]] = \u001b[33mMap\u001b[39m(\n",
       "  \u001b[32m\"8\"\u001b[39m -> \u001b[33mVector\u001b[39m(\u001b[32m\"8\"\u001b[39m, \u001b[32m\"8\"\u001b[39m, \u001b[32m\"8\"\u001b[39m),\n",
       "  \u001b[32m\"19\"\u001b[39m -> \u001b[33mVector\u001b[39m(\u001b[32m\"19\"\u001b[39m),\n",
       "  \u001b[32m\"23\"\u001b[39m -> \u001b[33mVector\u001b[39m(\u001b[32m\"23\"\u001b[39m),\n",
       "  \u001b[32m\"4\"\u001b[39m -> \u001b[33mVector\u001b[39m(\u001b[32m\"4\"\u001b[39m, \u001b[32m\"4\"\u001b[39m, \u001b[32m\"4\"\u001b[39m, \u001b[32m\"4\"\u001b[39m, \u001b[32m\"4\"\u001b[39m, \u001b[32m\"4\"\u001b[39m),\n",
       "  \u001b[32m\"11\"\u001b[39m -> \u001b[33mVector\u001b[39m(\u001b[32m\"11\"\u001b[39m),\n",
       "  \u001b[32m\"9\"\u001b[39m -> \u001b[33mVector\u001b[39m(\u001b[32m\"9\"\u001b[39m, \u001b[32m\"9\"\u001b[39m, \u001b[32m\"9\"\u001b[39m, \u001b[32m\"9\"\u001b[39m),\n",
       "  \u001b[32m\"13\"\u001b[39m -> \u001b[33mVector\u001b[39m(\u001b[32m\"13\"\u001b[39m),\n",
       "  \u001b[32m\"5\"\u001b[39m -> \u001b[33mVector\u001b[39m(\u001b[32m\"5\"\u001b[39m, \u001b[32m\"5\"\u001b[39m, \u001b[32m\"5\"\u001b[39m, \u001b[32m\"5\"\u001b[39m, \u001b[32m\"5\"\u001b[39m, \u001b[32m\"5\"\u001b[39m, \u001b[32m\"5\"\u001b[39m),\n",
       "  \u001b[32m\"6\"\u001b[39m -> \u001b[33mVector\u001b[39m(\u001b[32m\"6\"\u001b[39m, \u001b[32m\"6\"\u001b[39m, \u001b[32m\"6\"\u001b[39m, \u001b[32m\"6\"\u001b[39m, \u001b[32m\"6\"\u001b[39m, \u001b[32m\"6\"\u001b[39m),\n",
       "  \u001b[32m\"1\"\u001b[39m -> \u001b[33mVector\u001b[39m(\n",
       "    \u001b[32m\"1\"\u001b[39m,\n",
       "    \u001b[32m\"1\"\u001b[39m,\n",
       "    \u001b[32m\"1\"\u001b[39m,\n",
       "    \u001b[32m\"1\"\u001b[39m,\n",
       "    \u001b[32m\"1\"\u001b[39m,\n",
       "    \u001b[32m\"1\"\u001b[39m,\n",
       "    \u001b[32m\"1\"\u001b[39m,\n",
       "    \u001b[32m\"1\"\u001b[39m,\n",
       "    \u001b[32m\"1\"\u001b[39m,\n",
       "    \u001b[32m\"1\"\u001b[39m,\n",
       "    \u001b[32m\"1\"\u001b[39m,\n",
       "    \u001b[32m\"1\"\u001b[39m,\n",
       "    \u001b[32m\"1\"\u001b[39m,\n",
       "    \u001b[32m\"1\"\u001b[39m,\n",
       "    \u001b[32m\"1\"\u001b[39m,\n",
       "    \u001b[32m\"1\"\u001b[39m,\n",
       "    \u001b[32m\"1\"\u001b[39m,\n",
       "    \u001b[32m\"1\"\u001b[39m,\n",
       "    \u001b[32m\"1\"\u001b[39m,\n",
       "    \u001b[32m\"1\"\u001b[39m,\n",
       "    \u001b[32m\"1\"\u001b[39m,\n",
       "    \u001b[32m\"1\"\u001b[39m,\n",
       "    \u001b[32m\"1\"\u001b[39m,\n",
       "    \u001b[32m\"1\"\u001b[39m,\n",
       "    \u001b[32m\"1\"\u001b[39m,\n",
       "    \u001b[32m\"1\"\u001b[39m,\n",
       "    \u001b[32m\"1\"\u001b[39m,\n",
       "    \u001b[32m\"1\"\u001b[39m,\n",
       "..."
      ]
     },
     "execution_count": 6,
     "metadata": {},
     "output_type": "execute_result"
    }
   ],
   "source": [
    "val tombcountsGrouped = tombcounts.groupBy(tomb => tomb)"
   ]
  },
  {
   "cell_type": "code",
   "execution_count": 7,
   "metadata": {},
   "outputs": [
    {
     "name": "stderr",
     "output_type": "stream",
     "text": [
      "(console):1:49 expected (Semis | &\"}\" | end-of-input)\n",
      "val tombcounts = data.map(columns => columns(2))\"2\" to.Int\n",
      "                                                ^"
     ]
    },
    {
     "ename": "",
     "evalue": "",
     "output_type": "error",
     "traceback": [
      "(console):1:49 expected (Semis | &\"}\" | end-of-input)\nval tombcounts = data.map(columns => columns(2))\"2\" to.Int\n                                                ^"
     ]
    }
   ],
   "source": [
    "val tombcounts = data.map(columns => columns(2))\"2\" to.Int"
   ]
  }
 ],
 "metadata": {
  "kernelspec": {
   "display_name": "Scala (2.12)",
   "language": "scala",
   "name": "scala212"
  },
  "language_info": {
   "codemirror_mode": "text/x-scala",
   "file_extension": ".scala",
   "mimetype": "text/x-scala",
   "name": "scala",
   "nbconvert_exporter": "script",
   "version": "2.12.10"
  }
 },
 "nbformat": 4,
 "nbformat_minor": 4
}
