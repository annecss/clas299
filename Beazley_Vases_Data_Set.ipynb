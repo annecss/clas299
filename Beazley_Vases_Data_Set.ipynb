{
 "cells": [
  {
   "cell_type": "markdown",
   "metadata": {},
   "source": [
    "# Archaeological Data Analysis: lab module 1\n",
    "\n",
    "### Author:  ____________"
   ]
  },
  {
   "cell_type": "markdown",
   "metadata": {},
   "source": [
    "# Exploring a data set\n",
    "\n",
    "In this notebook, you'll download a data set derived from the openly licensed content of the [Online Coins of the Roman Empire](http://numismatics.org/ocre/) (OCRE). The original data set is available from <http://nomisma.org/> RDF XML format.  We'l work with a version formatted as a delimited-text file, using `#` as the column delimiter, with a header line labelling each column.\n",
    "\n",
    "As with any data set, our first task is to figure out what kinds of data it contains, and what the range of values are for each category of data. We'll examine the contents of several columns of data.\n",
    "\n",
    "\n"
   ]
  },
  {
   "cell_type": "markdown",
   "metadata": {},
   "source": [
    "## Download delimited-text data\n",
    "\n",
    "We'll make the standard Scala `Source` object available by `import`ing it, then use it to retrieve the content of a URL."
   ]
  },
  {
   "cell_type": "code",
   "execution_count": 1,
   "metadata": {
    "inputHidden": false,
    "outputHidden": false
   },
   "outputs": [
    {
     "data": {
      "text/plain": [
       "\u001b[32mimport \u001b[39m\u001b[36mscala.io.Source\n",
       "\u001b[39m\n",
       "\u001b[36mbeazley\u001b[39m: \u001b[32mString\u001b[39m = \u001b[32m\"https://raw.githubusercontent.com/neelsmith/clas299/master/vases-lastyear.csv\"\u001b[39m"
      ]
     },
     "execution_count": 1,
     "metadata": {},
     "output_type": "execute_result"
    }
   ],
   "source": [
    "import scala.io.Source\n",
    "val beazley = \"https://raw.githubusercontent.com/neelsmith/clas299/master/vases-lastyear.csv\""
   ]
  },
  {
   "cell_type": "markdown",
   "metadata": {},
   "source": [
    "We'll extract a sequence of lines from the URL source, and convert them to our favorite type of Scala collection, a `Vector`.\n",
    "\n",
    "(The following cell downloads the data:  depending on your internet connection, this might take a moment.)"
   ]
  },
  {
   "cell_type": "code",
   "execution_count": 2,
   "metadata": {
    "inputHidden": false,
    "outputHidden": false
   },
   "outputs": [
    {
     "data": {
      "text/plain": [
       "\u001b[36mlines\u001b[39m: \u001b[32mVector\u001b[39m[\u001b[32mString\u001b[39m] = \u001b[33mVector\u001b[39m(\n",
       "  \u001b[32m\"Painter,Number,Shape,Lat,Lon\"\u001b[39m,\n",
       "  \u001b[32m\"Achilles Painter,201,white lekythos,35.037245,32.436032\"\u001b[39m,\n",
       "  \u001b[32m\"Achilles Painter,202,white lekythos,37.9728191495,23.7237438519\"\u001b[39m,\n",
       "  \u001b[32m\"Achilles Painter,205,white lekythos,37.9728191495,23.7237438519\"\u001b[39m,\n",
       "  \u001b[32m\"Achilles Painter,1(1),Amphora,42.419009,11.6298975\"\u001b[39m,\n",
       "  \u001b[32m\"Achilles Painter,4(4),Neck-Amphora,42.419009,11.6298975\"\u001b[39m,\n",
       "  \u001b[32m\"Achilles Painter,5(5),Neck-Amphora,42.419009,11.6298975\"\u001b[39m,\n",
       "  \u001b[32m\"Achilles Painter,7(6),Neck-Amphora,40.926823,14.524545\"\u001b[39m,\n",
       "  \u001b[32m\"Achilles Painter,9(8),Neck-Amphora,40.926823,14.524545\"\u001b[39m,\n",
       "  \u001b[32m\"Achilles Painter,11(14),Neck-Amphora,40.926823,14.524545\"\u001b[39m,\n",
       "  \u001b[32m\"Achilles Painter,12(10),Neck-Amphora,40.926823,14.524545\"\u001b[39m,\n",
       "  \u001b[32m\"Achilles Painter,15(13),Neck-Amphora,40.926823,14.524545\"\u001b[39m,\n",
       "  \u001b[32m\"Achilles Painter,17(15),Neck-Amphora,40.926823,14.524545\"\u001b[39m,\n",
       "  \u001b[32m\"Achilles Painter,20(18),Neck-Amphora,40.926823,14.524545\"\u001b[39m,\n",
       "  \u001b[32m\"Achilles Painter,21,Neck-Amphora,40.9900604421,14.3986099472\"\u001b[39m,\n",
       "  \u001b[32m\"Achilles Painter,25(21),Neck-Amphora,40.926823,14.524545\"\u001b[39m,\n",
       "  \u001b[32m\"Achilles Painter,28(24),Neck-Amphora,40.926823,14.524545\"\u001b[39m,\n",
       "  \u001b[32m\"Achilles Painter,29(25),Neck-Amphora,40.926823,14.524545\"\u001b[39m,\n",
       "  \u001b[32m\"Achilles Painter,30(26),Neck-Amphora,40.926823,14.524545\"\u001b[39m,\n",
       "  \u001b[32m\"Achilles Painter,31(27),Neck-Amphora,40.926823,14.524545\"\u001b[39m,\n",
       "  \u001b[32m\"Achilles Painter,33(29),Neck-Amphora,40.926823,14.524545\"\u001b[39m,\n",
       "  \u001b[32m\"Achilles Painter,53,Krater,44.697575,12.108186\"\u001b[39m,\n",
       "  \u001b[32m\"Achilles Painter,59,Krater,40.9900604421,14.3986099472\"\u001b[39m,\n",
       "  \u001b[32m\"Achilles Painter,62,Krater,44.4945737,11.3455467\"\u001b[39m,\n",
       "  \u001b[32m\"Achilles Painter,65,Stamnoi,42.419009,11.6298975\"\u001b[39m,\n",
       "  \u001b[32m\"Achilles Painter,67,Stamnoi,42.419009,11.6298975\"\u001b[39m,\n",
       "  \u001b[32m\"Achilles Painter,69,Dinos,42.419009,11.6298975\"\u001b[39m,\n",
       "  \u001b[32m\"Achilles Painter,76,Oinochoai(Shape 2-high handle),42.419009,11.6298975\"\u001b[39m,\n",
       "  \u001b[32m\"Achilles Painter,77,Oinochoai(Shape 2-high handle),42.419009,11.6298975\"\u001b[39m,\n",
       "  \u001b[32m\"Achilles Painter,78,Oinochoai(Shape 3-chous),37.9728191495,23.7237438519\"\u001b[39m,\n",
       "  \u001b[32m\"Achilles Painter,82,Lekythoi,35.037245,32.436032\"\u001b[39m,\n",
       "  \u001b[32m\"Achilles Painter,89,Lekythoi,37.9728191495,23.7237438519\"\u001b[39m,\n",
       "  \u001b[32m\"Achilles Painter,104,Classic Pot,37.9728191495,23.7237438519\"\u001b[39m,\n",
       "  \u001b[32m\"Achilles Painter,115,Classic Pot,37.9728191495,23.7237438519\"\u001b[39m,\n",
       "  \u001b[32m\"Achilles Painter,123 (99),Squat Lekythos,37.9728191495,23.7237438519\"\u001b[39m,\n",
       "  \u001b[32m\"Achilles Painter,107,,37.9728191495,23.7237438519\"\u001b[39m,\n",
       "  \u001b[32m\"Achilles Painter,110,,37.9728191495,23.7237438519\"\u001b[39m,\n",
       "  \u001b[32m\"Achilles Painter,112,,41.891775,12.486137\"\u001b[39m,\n",
       "..."
      ]
     },
     "execution_count": 2,
     "metadata": {},
     "output_type": "execute_result"
    }
   ],
   "source": [
    "val lines = Source.fromURL(beazley).getLines.toVector"
   ]
  },
  {
   "cell_type": "markdown",
   "metadata": {},
   "source": [
    "## Examine header line\n",
    "\n",
    "To start with, let's see what the first line looks like, and compare it with the first data line."
   ]
  },
  {
   "cell_type": "code",
   "execution_count": 3,
   "metadata": {},
   "outputs": [
    {
     "data": {
      "text/plain": [
       "\u001b[36mres2\u001b[39m: \u001b[32mString\u001b[39m = \u001b[32m\"Painter,Number,Shape,Lat,Lon\"\u001b[39m"
      ]
     },
     "execution_count": 3,
     "metadata": {},
     "output_type": "execute_result"
    }
   ],
   "source": [
    "lines.head // same as lines(0)"
   ]
  },
  {
   "cell_type": "code",
   "execution_count": 6,
   "metadata": {
    "inputHidden": false,
    "outputHidden": false
   },
   "outputs": [
    {
     "data": {
      "text/plain": [
       "\u001b[36mres5\u001b[39m: \u001b[32mVector\u001b[39m[\u001b[32mString\u001b[39m] = \u001b[33mVector\u001b[39m(\n",
       "  \u001b[32m\"Achilles Painter\"\u001b[39m,\n",
       "  \u001b[32m\"201\"\u001b[39m,\n",
       "  \u001b[32m\"white lekythos\"\u001b[39m,\n",
       "  \u001b[32m\"35.037245\"\u001b[39m,\n",
       "  \u001b[32m\"32.436032\"\u001b[39m\n",
       ")"
      ]
     },
     "execution_count": 6,
     "metadata": {},
     "output_type": "execute_result"
    }
   ],
   "source": [
    "lines(1).split(\",\").toVector"
   ]
  },
  {
   "cell_type": "markdown",
   "metadata": {},
   "source": [
    "## Split data strings into columns\n",
    "\n",
    "Every line is a `String`.  If we break it up using the `split` method, we get an `Array` of `String`s, which we'll convert to a `Vector` of `String`s.  The end result will be that from a Vector of Strings, we create a Vector of Vectors of Strings.  Notice that Scala identifies the class of the new `data` expression as  `Vector[Vector[String]]`.\n",
    " "
   ]
  },
  {
   "cell_type": "code",
   "execution_count": 4,
   "metadata": {
    "inputHidden": false,
    "outputHidden": false,
    "scrolled": true
   },
   "outputs": [
    {
     "data": {
      "text/plain": [
       "\u001b[36mdata\u001b[39m: \u001b[32mVector\u001b[39m[\u001b[32mVector\u001b[39m[\u001b[32mString\u001b[39m]] = \u001b[33mVector\u001b[39m(\n",
       "  \u001b[33mVector\u001b[39m(\u001b[32m\"Achilles Painter\"\u001b[39m, \u001b[32m\"201\"\u001b[39m, \u001b[32m\"white lekythos\"\u001b[39m, \u001b[32m\"35.037245\"\u001b[39m, \u001b[32m\"32.436032\"\u001b[39m),\n",
       "  \u001b[33mVector\u001b[39m(\n",
       "    \u001b[32m\"Achilles Painter\"\u001b[39m,\n",
       "    \u001b[32m\"202\"\u001b[39m,\n",
       "    \u001b[32m\"white lekythos\"\u001b[39m,\n",
       "    \u001b[32m\"37.9728191495\"\u001b[39m,\n",
       "    \u001b[32m\"23.7237438519\"\u001b[39m\n",
       "  ),\n",
       "  \u001b[33mVector\u001b[39m(\n",
       "    \u001b[32m\"Achilles Painter\"\u001b[39m,\n",
       "    \u001b[32m\"205\"\u001b[39m,\n",
       "    \u001b[32m\"white lekythos\"\u001b[39m,\n",
       "    \u001b[32m\"37.9728191495\"\u001b[39m,\n",
       "    \u001b[32m\"23.7237438519\"\u001b[39m\n",
       "  ),\n",
       "  \u001b[33mVector\u001b[39m(\u001b[32m\"Achilles Painter\"\u001b[39m, \u001b[32m\"1(1)\"\u001b[39m, \u001b[32m\"Amphora\"\u001b[39m, \u001b[32m\"42.419009\"\u001b[39m, \u001b[32m\"11.6298975\"\u001b[39m),\n",
       "  \u001b[33mVector\u001b[39m(\u001b[32m\"Achilles Painter\"\u001b[39m, \u001b[32m\"4(4)\"\u001b[39m, \u001b[32m\"Neck-Amphora\"\u001b[39m, \u001b[32m\"42.419009\"\u001b[39m, \u001b[32m\"11.6298975\"\u001b[39m),\n",
       "  \u001b[33mVector\u001b[39m(\u001b[32m\"Achilles Painter\"\u001b[39m, \u001b[32m\"5(5)\"\u001b[39m, \u001b[32m\"Neck-Amphora\"\u001b[39m, \u001b[32m\"42.419009\"\u001b[39m, \u001b[32m\"11.6298975\"\u001b[39m),\n",
       "  \u001b[33mVector\u001b[39m(\u001b[32m\"Achilles Painter\"\u001b[39m, \u001b[32m\"7(6)\"\u001b[39m, \u001b[32m\"Neck-Amphora\"\u001b[39m, \u001b[32m\"40.926823\"\u001b[39m, \u001b[32m\"14.524545\"\u001b[39m),\n",
       "  \u001b[33mVector\u001b[39m(\u001b[32m\"Achilles Painter\"\u001b[39m, \u001b[32m\"9(8)\"\u001b[39m, \u001b[32m\"Neck-Amphora\"\u001b[39m, \u001b[32m\"40.926823\"\u001b[39m, \u001b[32m\"14.524545\"\u001b[39m),\n",
       "  \u001b[33mVector\u001b[39m(\u001b[32m\"Achilles Painter\"\u001b[39m, \u001b[32m\"11(14)\"\u001b[39m, \u001b[32m\"Neck-Amphora\"\u001b[39m, \u001b[32m\"40.926823\"\u001b[39m, \u001b[32m\"14.524545\"\u001b[39m),\n",
       "  \u001b[33mVector\u001b[39m(\u001b[32m\"Achilles Painter\"\u001b[39m, \u001b[32m\"12(10)\"\u001b[39m, \u001b[32m\"Neck-Amphora\"\u001b[39m, \u001b[32m\"40.926823\"\u001b[39m, \u001b[32m\"14.524545\"\u001b[39m),\n",
       "  \u001b[33mVector\u001b[39m(\u001b[32m\"Achilles Painter\"\u001b[39m, \u001b[32m\"15(13)\"\u001b[39m, \u001b[32m\"Neck-Amphora\"\u001b[39m, \u001b[32m\"40.926823\"\u001b[39m, \u001b[32m\"14.524545\"\u001b[39m),\n",
       "  \u001b[33mVector\u001b[39m(\u001b[32m\"Achilles Painter\"\u001b[39m, \u001b[32m\"17(15)\"\u001b[39m, \u001b[32m\"Neck-Amphora\"\u001b[39m, \u001b[32m\"40.926823\"\u001b[39m, \u001b[32m\"14.524545\"\u001b[39m),\n",
       "  \u001b[33mVector\u001b[39m(\u001b[32m\"Achilles Painter\"\u001b[39m, \u001b[32m\"20(18)\"\u001b[39m, \u001b[32m\"Neck-Amphora\"\u001b[39m, \u001b[32m\"40.926823\"\u001b[39m, \u001b[32m\"14.524545\"\u001b[39m),\n",
       "  \u001b[33mVector\u001b[39m(\n",
       "    \u001b[32m\"Achilles Painter\"\u001b[39m,\n",
       "    \u001b[32m\"21\"\u001b[39m,\n",
       "    \u001b[32m\"Neck-Amphora\"\u001b[39m,\n",
       "    \u001b[32m\"40.9900604421\"\u001b[39m,\n",
       "    \u001b[32m\"14.3986099472\"\u001b[39m\n",
       "  ),\n",
       "  \u001b[33mVector\u001b[39m(\u001b[32m\"Achilles Painter\"\u001b[39m, \u001b[32m\"25(21)\"\u001b[39m, \u001b[32m\"Neck-Amphora\"\u001b[39m, \u001b[32m\"40.926823\"\u001b[39m, \u001b[32m\"14.524545\"\u001b[39m)..."
      ]
     },
     "execution_count": 4,
     "metadata": {},
     "output_type": "execute_result"
    }
   ],
   "source": [
    "val data = lines.tail.map(ln => ln.split(\",\").toVector)"
   ]
  },
  {
   "cell_type": "code",
   "execution_count": 8,
   "metadata": {},
   "outputs": [
    {
     "data": {
      "text/plain": [
       "\u001b[36mlonlat\u001b[39m: \u001b[32mVector\u001b[39m[\u001b[32mString\u001b[39m] = \u001b[33mVector\u001b[39m(\n",
       "  \u001b[32m\"35.037245:32.436032\"\u001b[39m,\n",
       "  \u001b[32m\"37.9728191495:23.7237438519\"\u001b[39m,\n",
       "  \u001b[32m\"37.9728191495:23.7237438519\"\u001b[39m,\n",
       "  \u001b[32m\"42.419009:11.6298975\"\u001b[39m,\n",
       "  \u001b[32m\"42.419009:11.6298975\"\u001b[39m,\n",
       "  \u001b[32m\"42.419009:11.6298975\"\u001b[39m,\n",
       "  \u001b[32m\"40.926823:14.524545\"\u001b[39m,\n",
       "  \u001b[32m\"40.926823:14.524545\"\u001b[39m,\n",
       "  \u001b[32m\"40.926823:14.524545\"\u001b[39m,\n",
       "  \u001b[32m\"40.926823:14.524545\"\u001b[39m,\n",
       "  \u001b[32m\"40.926823:14.524545\"\u001b[39m,\n",
       "  \u001b[32m\"40.926823:14.524545\"\u001b[39m,\n",
       "  \u001b[32m\"40.926823:14.524545\"\u001b[39m,\n",
       "  \u001b[32m\"40.9900604421:14.3986099472\"\u001b[39m,\n",
       "  \u001b[32m\"40.926823:14.524545\"\u001b[39m,\n",
       "  \u001b[32m\"40.926823:14.524545\"\u001b[39m,\n",
       "  \u001b[32m\"40.926823:14.524545\"\u001b[39m,\n",
       "  \u001b[32m\"40.926823:14.524545\"\u001b[39m,\n",
       "  \u001b[32m\"40.926823:14.524545\"\u001b[39m,\n",
       "  \u001b[32m\"40.926823:14.524545\"\u001b[39m,\n",
       "  \u001b[32m\"44.697575:12.108186\"\u001b[39m,\n",
       "  \u001b[32m\"40.9900604421:14.3986099472\"\u001b[39m,\n",
       "  \u001b[32m\"44.4945737:11.3455467\"\u001b[39m,\n",
       "  \u001b[32m\"42.419009:11.6298975\"\u001b[39m,\n",
       "  \u001b[32m\"42.419009:11.6298975\"\u001b[39m,\n",
       "  \u001b[32m\"42.419009:11.6298975\"\u001b[39m,\n",
       "  \u001b[32m\"42.419009:11.6298975\"\u001b[39m,\n",
       "  \u001b[32m\"42.419009:11.6298975\"\u001b[39m,\n",
       "  \u001b[32m\"37.9728191495:23.7237438519\"\u001b[39m,\n",
       "  \u001b[32m\"35.037245:32.436032\"\u001b[39m,\n",
       "  \u001b[32m\"37.9728191495:23.7237438519\"\u001b[39m,\n",
       "  \u001b[32m\"37.9728191495:23.7237438519\"\u001b[39m,\n",
       "  \u001b[32m\"37.9728191495:23.7237438519\"\u001b[39m,\n",
       "  \u001b[32m\"37.9728191495:23.7237438519\"\u001b[39m,\n",
       "  \u001b[32m\"37.9728191495:23.7237438519\"\u001b[39m,\n",
       "  \u001b[32m\"37.9728191495:23.7237438519\"\u001b[39m,\n",
       "  \u001b[32m\"41.891775:12.486137\"\u001b[39m,\n",
       "  \u001b[32m\"37.9728191495:23.7237438519\"\u001b[39m,\n",
       "..."
      ]
     },
     "execution_count": 8,
     "metadata": {},
     "output_type": "execute_result"
    }
   ],
   "source": [
    "val lonlat = data.map( props => props(3) + \":\"+  props(4))"
   ]
  },
  {
   "cell_type": "code",
   "execution_count": 9,
   "metadata": {},
   "outputs": [
    {
     "data": {
      "text/plain": [
       "\u001b[36mres8_0\u001b[39m: \u001b[32mInt\u001b[39m = \u001b[32m101\u001b[39m\n",
       "\u001b[36mres8_1\u001b[39m: \u001b[32mInt\u001b[39m = \u001b[32m101\u001b[39m"
      ]
     },
     "execution_count": 9,
     "metadata": {},
     "output_type": "execute_result"
    }
   ],
   "source": [
    "lonlat.size\n",
    "data.size"
   ]
  },
  {
   "cell_type": "code",
   "execution_count": 12,
   "metadata": {},
   "outputs": [
    {
     "data": {
      "text/plain": [
       "\u001b[36mzipped\u001b[39m: \u001b[32mVector\u001b[39m[(\u001b[32mString\u001b[39m, \u001b[32mVector\u001b[39m[\u001b[32mString\u001b[39m])] = \u001b[33mVector\u001b[39m(\n",
       "  (\n",
       "    \u001b[32m\"35.037245:32.436032\"\u001b[39m,\n",
       "    \u001b[33mVector\u001b[39m(\n",
       "      \u001b[32m\"Achilles Painter\"\u001b[39m,\n",
       "      \u001b[32m\"201\"\u001b[39m,\n",
       "      \u001b[32m\"white lekythos\"\u001b[39m,\n",
       "      \u001b[32m\"35.037245\"\u001b[39m,\n",
       "      \u001b[32m\"32.436032\"\u001b[39m\n",
       "    )\n",
       "  ),\n",
       "  (\n",
       "    \u001b[32m\"37.9728191495:23.7237438519\"\u001b[39m,\n",
       "    \u001b[33mVector\u001b[39m(\n",
       "      \u001b[32m\"Achilles Painter\"\u001b[39m,\n",
       "      \u001b[32m\"202\"\u001b[39m,\n",
       "      \u001b[32m\"white lekythos\"\u001b[39m,\n",
       "      \u001b[32m\"37.9728191495\"\u001b[39m,\n",
       "      \u001b[32m\"23.7237438519\"\u001b[39m\n",
       "    )\n",
       "  ),\n",
       "  (\n",
       "    \u001b[32m\"37.9728191495:23.7237438519\"\u001b[39m,\n",
       "    \u001b[33mVector\u001b[39m(\n",
       "      \u001b[32m\"Achilles Painter\"\u001b[39m,\n",
       "      \u001b[32m\"205\"\u001b[39m,\n",
       "      \u001b[32m\"white lekythos\"\u001b[39m,\n",
       "      \u001b[32m\"37.9728191495\"\u001b[39m,\n",
       "      \u001b[32m\"23.7237438519\"\u001b[39m\n",
       "    )\n",
       "  ),\n",
       "  (\n",
       "    \u001b[32m\"42.419009:11.6298975\"\u001b[39m,\n",
       "    \u001b[33mVector\u001b[39m(\u001b[32m\"Achilles Painter\"\u001b[39m, \u001b[32m\"1(1)\"\u001b[39m, \u001b[32m\"Amphora\"\u001b[39m, \u001b[32m\"42.419009\"\u001b[39m, \u001b[32m\"11.6298975\"\u001b[39m)\n",
       "  ),\n",
       "  (\n",
       "    \u001b[32m\"42.419009:11.6298975\"\u001b[39m,\n",
       "    \u001b[33mVector\u001b[39m(\n",
       "      \u001b[32m\"Achilles Painter\"\u001b[39m,\n",
       "..."
      ]
     },
     "execution_count": 12,
     "metadata": {},
     "output_type": "execute_result"
    }
   ],
   "source": [
    "val zipped=lonlat zip data"
   ]
  },
  {
   "cell_type": "code",
   "execution_count": 16,
   "metadata": {},
   "outputs": [
    {
     "data": {
      "text/plain": [
       "\u001b[36mgrouped\u001b[39m: \u001b[32mMap\u001b[39m[\u001b[32mString\u001b[39m, \u001b[32mVector\u001b[39m[(\u001b[32mString\u001b[39m, \u001b[32mVector\u001b[39m[\u001b[32mString\u001b[39m])]] = \u001b[33mMap\u001b[39m(\n",
       "  \u001b[32m\"44.697575:12.108186\"\u001b[39m -> \u001b[33mVector\u001b[39m(\n",
       "    (\n",
       "      \u001b[32m\"44.697575:12.108186\"\u001b[39m,\n",
       "      \u001b[33mVector\u001b[39m(\u001b[32m\"Achilles Painter\"\u001b[39m, \u001b[32m\"53\"\u001b[39m, \u001b[32m\"Krater\"\u001b[39m, \u001b[32m\"44.697575\"\u001b[39m, \u001b[32m\"12.108186\"\u001b[39m)\n",
       "    ),\n",
       "    (\n",
       "      \u001b[32m\"44.697575:12.108186\"\u001b[39m,\n",
       "      \u001b[33mVector\u001b[39m(\n",
       "        \u001b[32m\"Tyszkiewicz Painter\"\u001b[39m,\n",
       "        \u001b[32m\"10\"\u001b[39m,\n",
       "        \u001b[32m\"Column-Kraters\"\u001b[39m,\n",
       "        \u001b[32m\"44.697575\"\u001b[39m,\n",
       "        \u001b[32m\"12.108186\"\u001b[39m\n",
       "      )\n",
       "    ),\n",
       "    (\n",
       "      \u001b[32m\"44.697575:12.108186\"\u001b[39m,\n",
       "      \u001b[33mVector\u001b[39m(\n",
       "        \u001b[32m\"Tyszkiewicz Painter\"\u001b[39m,\n",
       "        \u001b[32m\"11\"\u001b[39m,\n",
       "        \u001b[32m\"Column-Kraters\"\u001b[39m,\n",
       "        \u001b[32m\"44.697575\"\u001b[39m,\n",
       "        \u001b[32m\"12.108186\"\u001b[39m\n",
       "      )\n",
       "    ),\n",
       "    (\n",
       "      \u001b[32m\"44.697575:12.108186\"\u001b[39m,\n",
       "      \u001b[33mVector\u001b[39m(\n",
       "        \u001b[32m\"Tyszkiewicz Painter\"\u001b[39m,\n",
       "        \u001b[32m\"34\"\u001b[39m,\n",
       "        \u001b[32m\"Panathenaic Amphora\"\u001b[39m,\n",
       "        \u001b[32m\"44.697575\"\u001b[39m,\n",
       "        \u001b[32m\"12.108186\"\u001b[39m\n",
       "      )\n",
       "    )\n",
       "  ),\n",
       "  \u001b[32m\"36.0912206:28.0882029\"\u001b[39m -> \u001b[33mVector\u001b[39m(\n",
       "    (\n",
       "..."
      ]
     },
     "execution_count": 16,
     "metadata": {},
     "output_type": "execute_result"
    }
   ],
   "source": [
    "val grouped = zipped.groupBy{case (ll, beazley) => ll}"
   ]
  },
  {
   "cell_type": "code",
   "execution_count": 18,
   "metadata": {},
   "outputs": [
    {
     "data": {
      "text/plain": [
       "\u001b[36mgroupWithCount\u001b[39m: \u001b[32mVector\u001b[39m[(\u001b[32mString\u001b[39m, \u001b[32mInt\u001b[39m)] = \u001b[33mVector\u001b[39m(\n",
       "  (\u001b[32m\"44.697575:12.108186\"\u001b[39m, \u001b[32m4\u001b[39m),\n",
       "  (\u001b[32m\"36.0912206:28.0882029\"\u001b[39m, \u001b[32m1\u001b[39m),\n",
       "  (\u001b[32m\"44.4945737:11.3455467\"\u001b[39m, \u001b[32m2\u001b[39m),\n",
       "  (\u001b[32m\"42.0047755:12.10281885\"\u001b[39m, \u001b[32m1\u001b[39m),\n",
       "  (\u001b[32m\"40.926823:14.524545\"\u001b[39m, \u001b[32m15\u001b[39m),\n",
       "  (\u001b[32m\"40.9900604421:14.3986099472\"\u001b[39m, \u001b[32m2\u001b[39m),\n",
       "  (\u001b[32m\"54.968831:-1.610077\"\u001b[39m, \u001b[32m1\u001b[39m),\n",
       "  (\u001b[32m\"42.2999961333:12.3573670667\"\u001b[39m, \u001b[32m2\u001b[39m),\n",
       "  (\u001b[32m\"38.440912:27.14781\"\u001b[39m, \u001b[32m1\u001b[39m),\n",
       "  (\u001b[32m\"37.7409397:23.430141\"\u001b[39m, \u001b[32m4\u001b[39m),\n",
       "  (\u001b[32m\"42.6325682:11.6394037528\"\u001b[39m, \u001b[32m3\u001b[39m),\n",
       "  (\u001b[32m\"37.9728191495:23.7237438519\"\u001b[39m, \u001b[32m42\u001b[39m),\n",
       "  (\u001b[32m\"42.021338:12.390519\"\u001b[39m, \u001b[32m1\u001b[39m),\n",
       "  (\u001b[32m\"39.5232397778:16.71231\"\u001b[39m, \u001b[32m1\u001b[39m),\n",
       "  (\u001b[32m\"41.891775:12.486137\"\u001b[39m, \u001b[32m1\u001b[39m),\n",
       "  (\u001b[32m\"35.037245:32.436032\"\u001b[39m, \u001b[32m2\u001b[39m),\n",
       "  (\u001b[32m\"30.900508:30.5919275\"\u001b[39m, \u001b[32m4\u001b[39m),\n",
       "  (\u001b[32m\"38.1465515:23.970146\"\u001b[39m, \u001b[32m1\u001b[39m),\n",
       "  (\u001b[32m\"42.419009:11.6298975\"\u001b[39m, \u001b[32m12\u001b[39m),\n",
       "  (\u001b[32m\"38.482289:22.501169\"\u001b[39m, \u001b[32m1\u001b[39m)\n",
       ")"
      ]
     },
     "execution_count": 18,
     "metadata": {},
     "output_type": "execute_result"
    }
   ],
   "source": [
    "val groupWithCount = grouped.toVector.map {case (lonlat, beazley) => (lonlat, beazley.size)}"
   ]
  },
  {
   "cell_type": "code",
   "execution_count": 20,
   "metadata": {
    "scrolled": true
   },
   "outputs": [
    {
     "data": {
      "text/plain": [
       "\u001b[36mcsv\u001b[39m: \u001b[32mVector\u001b[39m[\u001b[32mString\u001b[39m] = \u001b[33mVector\u001b[39m(\n",
       "  \u001b[32m\"44.697575,12.108186,4\"\u001b[39m,\n",
       "  \u001b[32m\"36.0912206,28.0882029,1\"\u001b[39m,\n",
       "  \u001b[32m\"44.4945737,11.3455467,2\"\u001b[39m,\n",
       "  \u001b[32m\"42.0047755,12.10281885,1\"\u001b[39m,\n",
       "  \u001b[32m\"40.926823,14.524545,15\"\u001b[39m,\n",
       "  \u001b[32m\"40.9900604421,14.3986099472,2\"\u001b[39m,\n",
       "  \u001b[32m\"54.968831,-1.610077,1\"\u001b[39m,\n",
       "  \u001b[32m\"42.2999961333,12.3573670667,2\"\u001b[39m,\n",
       "  \u001b[32m\"38.440912,27.14781,1\"\u001b[39m,\n",
       "  \u001b[32m\"37.7409397,23.430141,4\"\u001b[39m,\n",
       "  \u001b[32m\"42.6325682,11.6394037528,3\"\u001b[39m,\n",
       "  \u001b[32m\"37.9728191495,23.7237438519,42\"\u001b[39m,\n",
       "  \u001b[32m\"42.021338,12.390519,1\"\u001b[39m,\n",
       "  \u001b[32m\"39.5232397778,16.71231,1\"\u001b[39m,\n",
       "  \u001b[32m\"41.891775,12.486137,1\"\u001b[39m,\n",
       "  \u001b[32m\"35.037245,32.436032,2\"\u001b[39m,\n",
       "  \u001b[32m\"30.900508,30.5919275,4\"\u001b[39m,\n",
       "  \u001b[32m\"38.1465515,23.970146,1\"\u001b[39m,\n",
       "  \u001b[32m\"42.419009,11.6298975,12\"\u001b[39m,\n",
       "  \u001b[32m\"38.482289,22.501169,1\"\u001b[39m\n",
       ")"
      ]
     },
     "execution_count": 20,
     "metadata": {},
     "output_type": "execute_result"
    }
   ],
   "source": [
    "val csv = groupWithCount.map{ case (s,i) => s.replace(\":\", \",\") + \",\" + i}"
   ]
  },
  {
   "cell_type": "code",
   "execution_count": 21,
   "metadata": {
    "scrolled": true
   },
   "outputs": [
    {
     "name": "stdout",
     "output_type": "stream",
     "text": [
      "44.697575,12.108186,4\n",
      "36.0912206,28.0882029,1\n",
      "44.4945737,11.3455467,2\n",
      "42.0047755,12.10281885,1\n",
      "40.926823,14.524545,15\n",
      "40.9900604421,14.3986099472,2\n",
      "54.968831,-1.610077,1\n",
      "42.2999961333,12.3573670667,2\n",
      "38.440912,27.14781,1\n",
      "37.7409397,23.430141,4\n",
      "42.6325682,11.6394037528,3\n",
      "37.9728191495,23.7237438519,42\n",
      "42.021338,12.390519,1\n",
      "39.5232397778,16.71231,1\n",
      "41.891775,12.486137,1\n",
      "35.037245,32.436032,2\n",
      "30.900508,30.5919275,4\n",
      "38.1465515,23.970146,1\n",
      "42.419009,11.6298975,12\n",
      "38.482289,22.501169,1\n"
     ]
    }
   ],
   "source": [
    "println(csv.mkString(\"\\n\"))"
   ]
  },
  {
   "cell_type": "markdown",
   "metadata": {},
   "source": [
    "Mapping each Vector to the first item in the Vector is equivalent to extracting the first column from each Vector.  The header line told us that the first column should contain ID values."
   ]
  },
  {
   "cell_type": "code",
   "execution_count": null,
   "metadata": {
    "inputHidden": false,
    "outputHidden": false
   },
   "outputs": [],
   "source": [
    "val ids = data.map(columns => columns(0))"
   ]
  },
  {
   "cell_type": "markdown",
   "metadata": {},
   "source": [
    "We want to be sure that all ID values are unique.  We can verify that by comparing the number of items in the `ids` Vector with the number of *distinct values* in the `ids` Vector.  If they're the same, then every value is unique."
   ]
  },
  {
   "cell_type": "code",
   "execution_count": null,
   "metadata": {
    "inputHidden": false,
    "outputHidden": false
   },
   "outputs": [],
   "source": [
    "//println(\"Records: \" + ids.size)\n",
    "//println(\"Distinct IDs: \" + ids.distinct.size)\n",
    "if(ids.size == ids.distinct.size) {\n",
    "    println(\"All records uniquely identified.\")\n",
    "} else {\n",
    "    println(\"Duplicate identifiers in data set.\")\n",
    "}"
   ]
  },
  {
   "cell_type": "markdown",
   "metadata": {},
   "source": [
    "## Distribution of denominations\n",
    "\n",
    "Let's look at how coin denominations are described.  You can see from the header line that denominations are in the third column, so we'll map each Vector to the thrid column -- and remember that we start indexing with 0, so the third column is indexed as `(2)`."
   ]
  },
  {
   "cell_type": "code",
   "execution_count": null,
   "metadata": {
    "inputHidden": false,
    "outputHidden": false
   },
   "outputs": [],
   "source": [
    "val denominations = data.map(columns => columns(2))"
   ]
  },
  {
   "cell_type": "markdown",
   "metadata": {},
   "source": [
    "We'll use a very handy Scala idiom to count how many times each authority appears. If we group the elements in our Vector by their value, the result is a Map from the unique set of values to a list of the matching values.  "
   ]
  },
  {
   "cell_type": "code",
   "execution_count": null,
   "metadata": {
    "inputHidden": false,
    "outputHidden": false
   },
   "outputs": [],
   "source": [
    "val denominationsGrouped = denominations.groupBy(denom => denom)\n"
   ]
  },
  {
   "cell_type": "code",
   "execution_count": null,
   "metadata": {
    "inputHidden": false,
    "outputHidden": false
   },
   "outputs": [],
   "source": [
    "// Free puzzle:  notice that the result of this groupBy should be the same size as the numnber of distinct values in our list:\n",
    "if (denominationsGrouped.size == denominations.distinct.size) {\n",
    "    println(\"Number of groups is same as number of distinct values.\")\n",
    "} else {\n",
    "    println(\"Something is terribly wrong.  The number of groups is not the same as the number of distinct values.\")\n",
    "}"
   ]
  },
  {
   "cell_type": "markdown",
   "metadata": {},
   "source": [
    "What we really want to know is *how many times* does each denomination appear?  We can find that out by transforming our mapping of String->Vector[String] to give us a mapping of each denomination to the *size* of the Vector of its occurrences."
   ]
  },
  {
   "cell_type": "markdown",
   "metadata": {},
   "source": [
    "\n"
   ]
  },
  {
   "cell_type": "code",
   "execution_count": null,
   "metadata": {
    "inputHidden": false,
    "outputHidden": false
   },
   "outputs": [],
   "source": [
    "val denominationsCounts = denominationsGrouped.map{ case (d, v) => (d, v.size) }\n"
   ]
  },
  {
   "cell_type": "markdown",
   "metadata": {},
   "source": [
    "Recall that `Map`s are not ordered in Scala. If we now convert the `Map` to a `Vector`, we will have a Vector pairing a String with an Int.  We can sort the Vector by the second element of the pairing (which will sort from smallest to largest), then reverse the results to have a descedning list of how often each denomination occurs."
   ]
  },
  {
   "cell_type": "code",
   "execution_count": null,
   "metadata": {
    "inputHidden": false,
    "outputHidden": false
   },
   "outputs": [],
   "source": [
    "val denominationsHisto = denominationsCounts.toVector.sortBy(frequency => frequency._2).reverse"
   ]
  },
  {
   "cell_type": "markdown",
   "metadata": {},
   "source": [
    "Now we can easily see the extremes of the counts:"
   ]
  },
  {
   "cell_type": "code",
   "execution_count": null,
   "metadata": {
    "inputHidden": false,
    "outputHidden": false
   },
   "outputs": [],
   "source": [
    "println(\"Most frequent denomination: \" + denominationsHisto.head)"
   ]
  },
  {
   "cell_type": "code",
   "execution_count": null,
   "metadata": {
    "inputHidden": false,
    "outputHidden": false
   },
   "outputs": [],
   "source": [
    "// Find denominations occurring fewer than some threshhold number of times\n",
    "val cutOff = 10 \n",
    "val leastDenominations = denominationsHisto.filter(frequency => frequency._2 < cutOff)\n",
    "println(\"Least frequent denominations: \\n\" + leastDenominations.mkString(\"\\n\"))"
   ]
  },
  {
   "cell_type": "markdown",
   "metadata": {},
   "source": [
    "## Assignment\n",
    "\n",
    "\n",
    "Analyze how many issues are produced by each issuing authority to answer the following questions:\n",
    "\n",
    "- How many different authorities strike coins in OCRE's data?\n",
    "- Who strikes the greatest number of issues?  How many?\n",
    "- What is the smallest number of issues struck by a single authority?"
   ]
  },
  {
   "cell_type": "markdown",
   "metadata": {},
   "source": [
    "### Gather and organize your data"
   ]
  },
  {
   "cell_type": "code",
   "execution_count": null,
   "metadata": {
    "inputHidden": false,
    "outputHidden": false
   },
   "outputs": [],
   "source": [
    "// First, to extract the \"Authority\" column from the data set, uncomment and complete the following line:\n",
    "// val authorities = ??"
   ]
  },
  {
   "cell_type": "markdown",
   "metadata": {},
   "source": [
    "### Question 1: how many authorities strike coins?\n",
    "\n"
   ]
  },
  {
   "cell_type": "code",
   "execution_count": null,
   "metadata": {
    "inputHidden": false,
    "outputHidden": false
   },
   "outputs": [],
   "source": [
    "// Use the distinct method and size method to count how many distinct values you have in `authorities`\n",
    "//\n",
    "// authorities.??"
   ]
  },
  {
   "cell_type": "markdown",
   "metadata": {},
   "source": [
    "### Group records by authority and count them"
   ]
  },
  {
   "cell_type": "code",
   "execution_count": null,
   "metadata": {
    "inputHidden": false,
    "outputHidden": false
   },
   "outputs": [],
   "source": [
    "// use the groupBy method to group each auhority by the authority value.\n",
    "// This will give you a Map of Strings to a Vector of Strings\n",
    "// \n",
    "// val authoritiesGrouped = ??\n"
   ]
  },
  {
   "cell_type": "code",
   "execution_count": null,
   "metadata": {
    "inputHidden": false,
    "outputHidden": false
   },
   "outputs": [],
   "source": [
    "// now convert each pairing of String->Vector[String] to a String->Int counting how many elements are in the original Vector.\n",
    "// The result is a Map[String->Int].\n",
    "//\n",
    "// val authoritiesCounts = authoritiesGrouped.map{ ?? }"
   ]
  },
  {
   "cell_type": "code",
   "execution_count": null,
   "metadata": {
    "inputHidden": false,
    "outputHidden": false
   },
   "outputs": [],
   "source": [
    "// next convert your Map[String->Int] to a Vector.  The result is a Vector of pairings of (String, Int).\n",
    "// We'll sort this by the second element of the pairing, namely the Int.  Since we sort from smallest to largest\n",
    "// by default, you can reverse the result so that the \n",
    "//\n",
    "// val authoritiesHistogram = authoritiesCounts.??"
   ]
  },
  {
   "cell_type": "markdown",
   "metadata": {},
   "source": [
    "### Questions 2 and 3: who strikes the most issues? the fewest?"
   ]
  },
  {
   "cell_type": "code",
   "execution_count": null,
   "metadata": {
    "inputHidden": false,
    "outputHidden": false
   },
   "outputs": [],
   "source": [
    "// With the authoritiesHistogram you created, you can use the `head` and `last` methods to see the first and last entries in the Vector.\n"
   ]
  }
 ],
 "metadata": {
  "kernel_info": {
   "name": "scala212"
  },
  "kernelspec": {
   "display_name": "Scala (2.12)",
   "language": "scala",
   "name": "scala212"
  },
  "language_info": {
   "codemirror_mode": "text/x-scala",
   "file_extension": ".scala",
   "mimetype": "text/x-scala",
   "name": "scala",
   "nbconvert_exporter": "script",
   "version": "2.12.10"
  },
  "nteract": {
   "version": "0.15.0"
  }
 },
 "nbformat": 4,
 "nbformat_minor": 2
}
